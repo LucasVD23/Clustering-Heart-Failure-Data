{
  "nbformat": 4,
  "nbformat_minor": 0,
  "metadata": {
    "colab": {
      "name": "T2-AM1.ipynb",
      "provenance": [],
      "collapsed_sections": [
        "_rVGGj_Z_ZQh",
        "PfBwXRZaIwlT",
        "26fHSxqpDWr9",
        "6jECCAngdxAM",
        "BymnDFeYEFH9",
        "2jYqI9XZfC6K",
        "zBB0348f_ZXk",
        "NsgmjyNFnqmz"
      ],
      "include_colab_link": true
    },
    "kernelspec": {
      "name": "python3",
      "display_name": "Python 3"
    },
    "language_info": {
      "name": "python"
    }
  },
  "cells": [
    {
      "cell_type": "markdown",
      "metadata": {
        "id": "view-in-github",
        "colab_type": "text"
      },
      "source": [
        "<a href=\"https://colab.research.google.com/github/LucasVD23/T2_AM1/blob/main/T2_AM1.ipynb\" target=\"_parent\"><img src=\"https://colab.research.google.com/assets/colab-badge.svg\" alt=\"Open In Colab\"/></a>"
      ]
    },
    {
      "cell_type": "markdown",
      "metadata": {
        "id": "eZLZMRlxEv0w"
      },
      "source": [
        "**Trabalho 1 de AM1**\n",
        "\n",
        "**Integrantes**\n",
        "\n",
        "Lucas Vinícius Domingues 769699\n",
        "\n",
        "Rafael Yoshio Yamawaki Murata 769681\n",
        "\n",
        "Victor Luís Aguilar Antunes 769734\n",
        "\n",
        "**Link para o Dataset utilizado: https://archive.ics.uci.edu/ml/datasets/Heart+failure+clinical+records**"
      ]
    },
    {
      "cell_type": "markdown",
      "metadata": {
        "id": "cUz3A8RSGNA-"
      },
      "source": [
        "**Carregar o dataset no colab!**"
      ]
    },
    {
      "cell_type": "markdown",
      "metadata": {
        "id": "QhD4o3mfGZ92"
      },
      "source": [
        "**Atenção!**\n",
        "Os Testes estão dividos de acordo com a seguinte hierarquia:    \n",
        "\n",
        "\n",
        "*   2 Primeiras seções: Teste com todos os atributos/Testes com atributos do artigo\n",
        "*   Dentro de cada seção existem duas subseções: Validação Externa e Validação Interna\n",
        "*   Dentro de cada uma das subseções existem outras 3 subseções: Execução do DBSCAN, K-Means e Ward\n",
        "\n",
        "Ao executar uma seção inteira são executados todos os testes dentro dela\n",
        "\n",
        "\n"
      ]
    },
    {
      "cell_type": "markdown",
      "metadata": {
        "id": "5tgrAcx2BICo"
      },
      "source": [
        "# **Dados**\n",
        "https://archive.ics.uci.edu/ml/datasets/Heart+failure+clinical+records"
      ]
    },
    {
      "cell_type": "code",
      "metadata": {
        "id": "6P9_uRMRAeqU"
      },
      "source": [
        "import numpy as np\n",
        "import pandas as pd\n",
        "from matplotlib import pyplot as plt\n",
        "from sklearn.cluster import KMeans\n",
        "from sklearn.metrics import silhouette_score\n",
        "from scipy.cluster.hierarchy import dendrogram, linkage\n",
        "from sklearn.cluster import AgglomerativeClustering\n",
        "from sklearn.preprocessing import StandardScaler\n",
        "from sklearn.preprocessing import MinMaxScaler\n",
        "from sklearn.cluster import DBSCAN\n",
        "from sklearn import metrics\n",
        "from sklearn.metrics.cluster import adjusted_rand_score"
      ],
      "execution_count": null,
      "outputs": []
    },
    {
      "cell_type": "code",
      "metadata": {
        "id": "3WNZ1rtIJQPi"
      },
      "source": [
        "data_heart= pd.read_csv (\"/content/heart_failure_clinical_records_dataset.csv\")\n",
        "teste_classes = data_heart['DEATH_EVENT']\n"
      ],
      "execution_count": null,
      "outputs": []
    },
    {
      "cell_type": "code",
      "metadata": {
        "colab": {
          "base_uri": "https://localhost:8080/",
          "height": 443
        },
        "id": "8LxIOXF91XQi",
        "outputId": "47b9d4db-9c7d-47a4-c9a3-3d24c5416a88"
      },
      "source": [
        "data_heart"
      ],
      "execution_count": null,
      "outputs": [
        {
          "output_type": "execute_result",
          "data": {
            "text/html": [
              "<div>\n",
              "<style scoped>\n",
              "    .dataframe tbody tr th:only-of-type {\n",
              "        vertical-align: middle;\n",
              "    }\n",
              "\n",
              "    .dataframe tbody tr th {\n",
              "        vertical-align: top;\n",
              "    }\n",
              "\n",
              "    .dataframe thead th {\n",
              "        text-align: right;\n",
              "    }\n",
              "</style>\n",
              "<table border=\"1\" class=\"dataframe\">\n",
              "  <thead>\n",
              "    <tr style=\"text-align: right;\">\n",
              "      <th></th>\n",
              "      <th>age</th>\n",
              "      <th>anaemia</th>\n",
              "      <th>creatinine_phosphokinase</th>\n",
              "      <th>diabetes</th>\n",
              "      <th>ejection_fraction</th>\n",
              "      <th>high_blood_pressure</th>\n",
              "      <th>platelets</th>\n",
              "      <th>serum_creatinine</th>\n",
              "      <th>serum_sodium</th>\n",
              "      <th>sex</th>\n",
              "      <th>smoking</th>\n",
              "      <th>time</th>\n",
              "      <th>DEATH_EVENT</th>\n",
              "    </tr>\n",
              "  </thead>\n",
              "  <tbody>\n",
              "    <tr>\n",
              "      <th>0</th>\n",
              "      <td>75.0</td>\n",
              "      <td>0</td>\n",
              "      <td>582</td>\n",
              "      <td>0</td>\n",
              "      <td>20</td>\n",
              "      <td>1</td>\n",
              "      <td>265000.00</td>\n",
              "      <td>1.9</td>\n",
              "      <td>130</td>\n",
              "      <td>1</td>\n",
              "      <td>0</td>\n",
              "      <td>4</td>\n",
              "      <td>1</td>\n",
              "    </tr>\n",
              "    <tr>\n",
              "      <th>1</th>\n",
              "      <td>55.0</td>\n",
              "      <td>0</td>\n",
              "      <td>7861</td>\n",
              "      <td>0</td>\n",
              "      <td>38</td>\n",
              "      <td>0</td>\n",
              "      <td>263358.03</td>\n",
              "      <td>1.1</td>\n",
              "      <td>136</td>\n",
              "      <td>1</td>\n",
              "      <td>0</td>\n",
              "      <td>6</td>\n",
              "      <td>1</td>\n",
              "    </tr>\n",
              "    <tr>\n",
              "      <th>2</th>\n",
              "      <td>65.0</td>\n",
              "      <td>0</td>\n",
              "      <td>146</td>\n",
              "      <td>0</td>\n",
              "      <td>20</td>\n",
              "      <td>0</td>\n",
              "      <td>162000.00</td>\n",
              "      <td>1.3</td>\n",
              "      <td>129</td>\n",
              "      <td>1</td>\n",
              "      <td>1</td>\n",
              "      <td>7</td>\n",
              "      <td>1</td>\n",
              "    </tr>\n",
              "    <tr>\n",
              "      <th>3</th>\n",
              "      <td>50.0</td>\n",
              "      <td>1</td>\n",
              "      <td>111</td>\n",
              "      <td>0</td>\n",
              "      <td>20</td>\n",
              "      <td>0</td>\n",
              "      <td>210000.00</td>\n",
              "      <td>1.9</td>\n",
              "      <td>137</td>\n",
              "      <td>1</td>\n",
              "      <td>0</td>\n",
              "      <td>7</td>\n",
              "      <td>1</td>\n",
              "    </tr>\n",
              "    <tr>\n",
              "      <th>4</th>\n",
              "      <td>65.0</td>\n",
              "      <td>1</td>\n",
              "      <td>160</td>\n",
              "      <td>1</td>\n",
              "      <td>20</td>\n",
              "      <td>0</td>\n",
              "      <td>327000.00</td>\n",
              "      <td>2.7</td>\n",
              "      <td>116</td>\n",
              "      <td>0</td>\n",
              "      <td>0</td>\n",
              "      <td>8</td>\n",
              "      <td>1</td>\n",
              "    </tr>\n",
              "    <tr>\n",
              "      <th>...</th>\n",
              "      <td>...</td>\n",
              "      <td>...</td>\n",
              "      <td>...</td>\n",
              "      <td>...</td>\n",
              "      <td>...</td>\n",
              "      <td>...</td>\n",
              "      <td>...</td>\n",
              "      <td>...</td>\n",
              "      <td>...</td>\n",
              "      <td>...</td>\n",
              "      <td>...</td>\n",
              "      <td>...</td>\n",
              "      <td>...</td>\n",
              "    </tr>\n",
              "    <tr>\n",
              "      <th>294</th>\n",
              "      <td>62.0</td>\n",
              "      <td>0</td>\n",
              "      <td>61</td>\n",
              "      <td>1</td>\n",
              "      <td>38</td>\n",
              "      <td>1</td>\n",
              "      <td>155000.00</td>\n",
              "      <td>1.1</td>\n",
              "      <td>143</td>\n",
              "      <td>1</td>\n",
              "      <td>1</td>\n",
              "      <td>270</td>\n",
              "      <td>0</td>\n",
              "    </tr>\n",
              "    <tr>\n",
              "      <th>295</th>\n",
              "      <td>55.0</td>\n",
              "      <td>0</td>\n",
              "      <td>1820</td>\n",
              "      <td>0</td>\n",
              "      <td>38</td>\n",
              "      <td>0</td>\n",
              "      <td>270000.00</td>\n",
              "      <td>1.2</td>\n",
              "      <td>139</td>\n",
              "      <td>0</td>\n",
              "      <td>0</td>\n",
              "      <td>271</td>\n",
              "      <td>0</td>\n",
              "    </tr>\n",
              "    <tr>\n",
              "      <th>296</th>\n",
              "      <td>45.0</td>\n",
              "      <td>0</td>\n",
              "      <td>2060</td>\n",
              "      <td>1</td>\n",
              "      <td>60</td>\n",
              "      <td>0</td>\n",
              "      <td>742000.00</td>\n",
              "      <td>0.8</td>\n",
              "      <td>138</td>\n",
              "      <td>0</td>\n",
              "      <td>0</td>\n",
              "      <td>278</td>\n",
              "      <td>0</td>\n",
              "    </tr>\n",
              "    <tr>\n",
              "      <th>297</th>\n",
              "      <td>45.0</td>\n",
              "      <td>0</td>\n",
              "      <td>2413</td>\n",
              "      <td>0</td>\n",
              "      <td>38</td>\n",
              "      <td>0</td>\n",
              "      <td>140000.00</td>\n",
              "      <td>1.4</td>\n",
              "      <td>140</td>\n",
              "      <td>1</td>\n",
              "      <td>1</td>\n",
              "      <td>280</td>\n",
              "      <td>0</td>\n",
              "    </tr>\n",
              "    <tr>\n",
              "      <th>298</th>\n",
              "      <td>50.0</td>\n",
              "      <td>0</td>\n",
              "      <td>196</td>\n",
              "      <td>0</td>\n",
              "      <td>45</td>\n",
              "      <td>0</td>\n",
              "      <td>395000.00</td>\n",
              "      <td>1.6</td>\n",
              "      <td>136</td>\n",
              "      <td>1</td>\n",
              "      <td>1</td>\n",
              "      <td>285</td>\n",
              "      <td>0</td>\n",
              "    </tr>\n",
              "  </tbody>\n",
              "</table>\n",
              "<p>299 rows × 13 columns</p>\n",
              "</div>"
            ],
            "text/plain": [
              "      age  anaemia  creatinine_phosphokinase  ...  smoking  time  DEATH_EVENT\n",
              "0    75.0        0                       582  ...        0     4            1\n",
              "1    55.0        0                      7861  ...        0     6            1\n",
              "2    65.0        0                       146  ...        1     7            1\n",
              "3    50.0        1                       111  ...        0     7            1\n",
              "4    65.0        1                       160  ...        0     8            1\n",
              "..    ...      ...                       ...  ...      ...   ...          ...\n",
              "294  62.0        0                        61  ...        1   270            0\n",
              "295  55.0        0                      1820  ...        0   271            0\n",
              "296  45.0        0                      2060  ...        0   278            0\n",
              "297  45.0        0                      2413  ...        1   280            0\n",
              "298  50.0        0                       196  ...        1   285            0\n",
              "\n",
              "[299 rows x 13 columns]"
            ]
          },
          "metadata": {},
          "execution_count": 529
        }
      ]
    },
    {
      "cell_type": "markdown",
      "metadata": {
        "id": "_rVGGj_Z_ZQh"
      },
      "source": [
        "# **EDA**"
      ]
    },
    {
      "cell_type": "markdown",
      "metadata": {
        "id": "3wY9N3ElE1_M"
      },
      "source": [
        "Atributos\n",
        "\n",
        "*   Categóricos\n",
        "  *   Nominais: diabetes, high_blood_pressure, sex, smoking, death event\n",
        "\n",
        "   \n",
        "\n",
        "*   Numéricos\n",
        "  *   Discretos: age, creatinine_phosphokinase, ejection_fraction,serum_sodium,time\n",
        "  *   Contínuos: platelets, serum_creatinine\n",
        "\n",
        "\n",
        "\n",
        "\n",
        "\n"
      ]
    },
    {
      "cell_type": "markdown",
      "metadata": {
        "id": "7cyop5CfAWKj"
      },
      "source": [
        "### **Atributos Categóricos**"
      ]
    },
    {
      "cell_type": "code",
      "metadata": {
        "id": "SYriWysT_Ywc",
        "colab": {
          "base_uri": "https://localhost:8080/"
        },
        "outputId": "88359b67-659f-4c59-fc8a-6d508dc3dbf5"
      },
      "source": [
        "#visualizando atributos categóricos\n",
        "categoricos = ['diabetes', 'high_blood_pressure','sex','smoking','DEATH_EVENT']\n",
        "\n",
        "for atributo in categoricos:\n",
        "  if(atributo ==  'sex'):\n",
        "    data_heart[atributo].value_counts().plot.pie(labels = ['Feminino','Masculino'], autopct='%1.0f%%')\n",
        "  else:\n",
        "    data_heart[atributo].value_counts().plot.pie(labels = ['Negativo','Positivo'], autopct='%1.0f%%')\n",
        "  plt.show()\n",
        "\n",
        "for atributo in categoricos:\n",
        "    if(atributo ==  'sex'):\n",
        "      data_heart[atributo].value_counts().plot.bar().set_xticklabels(['Feminino','Masculino'])\n",
        "    else:\n",
        "      data_heart[atributo].value_counts().plot.bar().set_xticklabels(['Negativo','Positivo'])\n",
        "    plt.show()\n"
      ],
      "execution_count": null,
      "outputs": [
        {
          "output_type": "display_data",
          "data": {
            "image/png": "[encoded data removed]",
            "text/plain": [
              "<Figure size 432x288 with 1 Axes>"
            ]
          },
          "metadata": {}
        },
        {
          "output_type": "display_data",
          "data": {
            "image/png": "[encoded data removed]",
            "text/plain": [
              "<Figure size 432x288 with 1 Axes>"
            ]
          },
          "metadata": {}
        },
        {
          "output_type": "display_data",
          "data": {
            "image/png": "[encoded data removed]",
            "text/plain": [
              "<Figure size 432x288 with 1 Axes>"
            ]
          },
          "metadata": {}
        },
        {
          "output_type": "display_data",
          "data": {
            "image/png": "[encoded data removed]",
            "text/plain": [
              "<Figure size 432x288 with 1 Axes>"
            ]
          },
          "metadata": {}
        },
        {
          "output_type": "display_data",
          "data": {
            "image/png": "[encoded data removed]",
            "text/plain": [
              "<Figure size 432x288 with 1 Axes>"
            ]
          },
          "metadata": {}
        },
        {
          "output_type": "display_data",
          "data": {
            "image/png": "[encoded data removed]",
            "text/plain": [
              "<Figure size 432x288 with 1 Axes>"
            ]
          },
          "metadata": {
            "needs_background": "light"
          }
        },
        {
          "output_type": "display_data",
          "data": {
            "image/png": "[encoded data removed]",
            "text/plain": [
              "<Figure size 432x288 with 1 Axes>"
            ]
          },
          "metadata": {
            "needs_background": "light"
          }
        },
        {
          "output_type": "display_data",
          "data": {
            "image/png": "[encoded data removed]",
            "text/plain": [
              "<Figure size 432x288 with 1 Axes>"
            ]
          },
          "metadata": {
            "needs_background": "light"
          }
        },
        {
          "output_type": "display_data",
          "data": {
            "image/png": "[encoded data removed]",
            "text/plain": [
              "<Figure size 432x288 with 1 Axes>"
            ]
          },
          "metadata": {
            "needs_background": "light"
          }
        },
        {
          "output_type": "display_data",
          "data": {
            "image/png": "[encoded data removed]",
            "text/plain": [
              "<Figure size 432x288 with 1 Axes>"
            ]
          },
          "metadata": {
            "needs_background": "light"
          }
        }
      ]
    },
    {
      "cell_type": "markdown",
      "metadata": {
        "id": "Av_Bt0CJAbzM"
      },
      "source": [
        "### **Atributos Numéricos**"
      ]
    },
    {
      "cell_type": "code",
      "metadata": {
        "colab": {
          "base_uri": "https://localhost:8080/"
        },
        "id": "RewdtB0uSIde",
        "outputId": "a0e8bb17-6b78-4403-d778-8fa6a19a3217"
      },
      "source": [
        "#atributos numéricos discretos:\n",
        "discretos = ['age', 'creatinine_phosphokinase', 'ejection_fraction','serum_sodium','time']\n",
        "continuos = ['platelets', 'serum_creatinine']\n",
        "for atributo in discretos:\n",
        "  print(\"ATRIBUTO: \" + atributo)\n",
        "  print(\"MIN: \" + str(data_heart[atributo].min()))\n",
        "  print(\"MAX: \" + str(data_heart[atributo].max()))\n",
        "  print(\"MÉDIA: \" + str(data_heart[atributo].mean()))\n",
        "  print(\"DESV PADRÃO: \"+ str(data_heart[atributo].std()))\n",
        "  plt.hist(data_heart[atributo])\n",
        "  plt.title(atributo)\n",
        "  plt.show()\n",
        "\n",
        "for atributo in (discretos+continuos):\n",
        "  print(\"ATRIBUTO: \" + atributo)\n",
        "  print(\"MIN: \" + str(data_heart[atributo].min()))\n",
        "  print(\"MAX: \" + str(data_heart[atributo].max()))\n",
        "  print(\"MÉDIA: \" + str(data_heart[atributo].mean()))\n",
        "  print(\"DESV PADRÃO: \"+ str(data_heart[atributo].std()))\n",
        "  plt.boxplot(data_heart[atributo])\n",
        "  plt.title(atributo)\n",
        "  plt.show()"
      ],
      "execution_count": null,
      "outputs": [
        {
          "output_type": "stream",
          "name": "stdout",
          "text": [
            "ATRIBUTO: age\n",
            "MIN: 40.0\n",
            "MAX: 95.0\n",
            "MÉDIA: 60.83389297658862\n",
            "DESV PADRÃO: 11.894809074044478\n"
          ]
        },
        {
          "output_type": "display_data",
          "data": {
            "image/png": "[encoded data removed]",
            "text/plain": [
              "<Figure size 432x288 with 1 Axes>"
            ]
          },
          "metadata": {
            "needs_background": "light"
          }
        },
        {
          "output_type": "stream",
          "name": "stdout",
          "text": [
            "ATRIBUTO: creatinine_phosphokinase\n",
            "MIN: 23\n",
            "MAX: 7861\n",
            "MÉDIA: 581.8394648829432\n",
            "DESV PADRÃO: 970.2878807124363\n"
          ]
        },
        {
          "output_type": "display_data",
          "data": {
            "image/png": "[encoded data removed]",
            "text/plain": [
              "<Figure size 432x288 with 1 Axes>"
            ]
          },
          "metadata": {
            "needs_background": "light"
          }
        },
        {
          "output_type": "stream",
          "name": "stdout",
          "text": [
            "ATRIBUTO: ejection_fraction\n",
            "MIN: 14\n",
            "MAX: 80\n",
            "MÉDIA: 38.08361204013378\n",
            "DESV PADRÃO: 11.834840741039173\n"
          ]
        },
        {
          "output_type": "display_data",
          "data": {
            "image/png": "[encoded data removed]",
            "text/plain": [
              "<Figure size 432x288 with 1 Axes>"
            ]
          },
          "metadata": {
            "needs_background": "light"
          }
        },
        {
          "output_type": "stream",
          "name": "stdout",
          "text": [
            "ATRIBUTO: serum_sodium\n",
            "MIN: 113\n",
            "MAX: 148\n",
            "MÉDIA: 136.62541806020067\n",
            "DESV PADRÃO: 4.412477283909233\n"
          ]
        },
        {
          "output_type": "display_data",
          "data": {
            "image/png": "[encoded data removed]",
            "text/plain": [
              "<Figure size 432x288 with 1 Axes>"
            ]
          },
          "metadata": {
            "needs_background": "light"
          }
        },
        {
          "output_type": "stream",
          "name": "stdout",
          "text": [
            "ATRIBUTO: time\n",
            "MIN: 4\n",
            "MAX: 285\n",
            "MÉDIA: 130.2608695652174\n",
            "DESV PADRÃO: 77.61420795029342\n"
          ]
        },
        {
          "output_type": "display_data",
          "data": {
            "image/png": "[encoded data removed]",
            "text/plain": [
              "<Figure size 432x288 with 1 Axes>"
            ]
          },
          "metadata": {
            "needs_background": "light"
          }
        },
        {
          "output_type": "stream",
          "name": "stdout",
          "text": [
            "ATRIBUTO: age\n",
            "MIN: 40.0\n",
            "MAX: 95.0\n",
            "MÉDIA: 60.83389297658862\n",
            "DESV PADRÃO: 11.894809074044478\n"
          ]
        },
        {
          "output_type": "display_data",
          "data": {
            "image/png": "[encoded data removed]",
            "text/plain": [
              "<Figure size 432x288 with 1 Axes>"
            ]
          },
          "metadata": {
            "needs_background": "light"
          }
        },
        {
          "output_type": "stream",
          "name": "stdout",
          "text": [
            "ATRIBUTO: creatinine_phosphokinase\n",
            "MIN: 23\n",
            "MAX: 7861\n",
            "MÉDIA: 581.8394648829432\n",
            "DESV PADRÃO: 970.2878807124363\n"
          ]
        },
        {
          "output_type": "display_data",
          "data": {
            "image/png": "[encoded data removed]",
            "text/plain": [
              "<Figure size 432x288 with 1 Axes>"
            ]
          },
          "metadata": {
            "needs_background": "light"
          }
        },
        {
          "output_type": "stream",
          "name": "stdout",
          "text": [
            "ATRIBUTO: ejection_fraction\n",
            "MIN: 14\n",
            "MAX: 80\n",
            "MÉDIA: 38.08361204013378\n",
            "DESV PADRÃO: 11.834840741039173\n"
          ]
        },
        {
          "output_type": "display_data",
          "data": {
            "image/png": "[encoded data removed]",
            "text/plain": [
              "<Figure size 432x288 with 1 Axes>"
            ]
          },
          "metadata": {
            "needs_background": "light"
          }
        },
        {
          "output_type": "stream",
          "name": "stdout",
          "text": [
            "ATRIBUTO: serum_sodium\n",
            "MIN: 113\n",
            "MAX: 148\n",
            "MÉDIA: 136.62541806020067\n",
            "DESV PADRÃO: 4.412477283909233\n"
          ]
        },
        {
          "output_type": "display_data",
          "data": {
            "image/png": "[encoded data removed]",
            "text/plain": [
              "<Figure size 432x288 with 1 Axes>"
            ]
          },
          "metadata": {
            "needs_background": "light"
          }
        },
        {
          "output_type": "stream",
          "name": "stdout",
          "text": [
            "ATRIBUTO: time\n",
            "MIN: 4\n",
            "MAX: 285\n",
            "MÉDIA: 130.2608695652174\n",
            "DESV PADRÃO: 77.61420795029342\n"
          ]
        },
        {
          "output_type": "display_data",
          "data": {
            "image/png": "[encoded data removed]",
            "text/plain": [
              "<Figure size 432x288 with 1 Axes>"
            ]
          },
          "metadata": {
            "needs_background": "light"
          }
        },
        {
          "output_type": "stream",
          "name": "stdout",
          "text": [
            "ATRIBUTO: platelets\n",
            "MIN: 25100.0\n",
            "MAX: 850000.0\n",
            "MÉDIA: 263358.02926421416\n",
            "DESV PADRÃO: 97804.23686859828\n"
          ]
        },
        {
          "output_type": "display_data",
          "data": {
            "image/png": "[encoded data removed]",
            "text/plain": [
              "<Figure size 432x288 with 1 Axes>"
            ]
          },
          "metadata": {
            "needs_background": "light"
          }
        },
        {
          "output_type": "stream",
          "name": "stdout",
          "text": [
            "ATRIBUTO: serum_creatinine\n",
            "MIN: 0.5\n",
            "MAX: 9.4\n",
            "MÉDIA: 1.393879598662207\n",
            "DESV PADRÃO: 1.034510064089853\n"
          ]
        },
        {
          "output_type": "display_data",
          "data": {
            "image/png": "[encoded data removed]",
            "text/plain": [
              "<Figure size 432x288 with 1 Axes>"
            ]
          },
          "metadata": {
            "needs_background": "light"
          }
        }
      ]
    },
    {
      "cell_type": "code",
      "metadata": {
        "colab": {
          "base_uri": "https://localhost:8080/",
          "height": 368
        },
        "id": "0hZu12CyQU-1",
        "outputId": "32cda5a3-46c0-496c-b76b-2f816442e206"
      },
      "source": [
        "  print(\"ATRIBUTO: age\")\n",
        "  print(\"MIN: \" + str(data_heart['age'].min()))\n",
        "  print(\"MAX: \" + str(data_heart['age'].max()))\n",
        "  print(\"MÉDIA: \" + str(data_heart['age'].mean()))\n",
        "  print(\"DESV PADRÃO: \"+ str(data_heart['age'].std()))\n",
        "  plt.hist(data_heart['age'],bins=[40,50,60,70,80,90,100])\n",
        "  plt.title('Age')\n",
        "  plt.show()"
      ],
      "execution_count": null,
      "outputs": [
        {
          "output_type": "stream",
          "name": "stdout",
          "text": [
            "ATRIBUTO: age\n",
            "MIN: 40.0\n",
            "MAX: 95.0\n",
            "MÉDIA: 60.83389297658862\n",
            "DESV PADRÃO: 11.894809074044478\n"
          ]
        },
        {
          "output_type": "display_data",
          "data": {
            "image/png": "[encoded data removed]",
            "text/plain": [
              "<Figure size 432x288 with 1 Axes>"
            ]
          },
          "metadata": {
            "needs_background": "light"
          }
        }
      ]
    },
    {
      "cell_type": "code",
      "metadata": {
        "id": "dZPLosItWnye",
        "colab": {
          "base_uri": "https://localhost:8080/"
        },
        "outputId": "058bf703-af91-458f-ba2f-55cab925ab47"
      },
      "source": [
        "for coluna in (discretos+continuos):\n",
        "    my_dict = {'Não óbito': data_heart[data_heart['DEATH_EVENT'] == 0][coluna], \n",
        "               'Óbito': data_heart[data_heart['DEATH_EVENT'] == 1][coluna]}\n",
        "    \n",
        "    fig, ax = plt.subplots()\n",
        "    ax.boxplot(my_dict.values())\n",
        "    ax.set_xticklabels(my_dict.keys())\n",
        "    plt.title('Relação ' + coluna + ' X Morte')"
      ],
      "execution_count": null,
      "outputs": [
        {
          "output_type": "stream",
          "name": "stderr",
          "text": [
            "/usr/local/lib/python3.7/dist-packages/numpy/core/_asarray.py:83: VisibleDeprecationWarning: Creating an ndarray from ragged nested sequences (which is a list-or-tuple of lists-or-tuples-or ndarrays with different lengths or shapes) is deprecated. If you meant to do this, you must specify 'dtype=object' when creating the ndarray\n",
            "  return array(a, dtype, copy=False, order=order)\n",
            "/usr/local/lib/python3.7/dist-packages/numpy/core/_asarray.py:83: VisibleDeprecationWarning: Creating an ndarray from ragged nested sequences (which is a list-or-tuple of lists-or-tuples-or ndarrays with different lengths or shapes) is deprecated. If you meant to do this, you must specify 'dtype=object' when creating the ndarray\n",
            "  return array(a, dtype, copy=False, order=order)\n",
            "/usr/local/lib/python3.7/dist-packages/numpy/core/_asarray.py:83: VisibleDeprecationWarning: Creating an ndarray from ragged nested sequences (which is a list-or-tuple of lists-or-tuples-or ndarrays with different lengths or shapes) is deprecated. If you meant to do this, you must specify 'dtype=object' when creating the ndarray\n",
            "  return array(a, dtype, copy=False, order=order)\n",
            "/usr/local/lib/python3.7/dist-packages/numpy/core/_asarray.py:83: VisibleDeprecationWarning: Creating an ndarray from ragged nested sequences (which is a list-or-tuple of lists-or-tuples-or ndarrays with different lengths or shapes) is deprecated. If you meant to do this, you must specify 'dtype=object' when creating the ndarray\n",
            "  return array(a, dtype, copy=False, order=order)\n",
            "/usr/local/lib/python3.7/dist-packages/numpy/core/_asarray.py:83: VisibleDeprecationWarning: Creating an ndarray from ragged nested sequences (which is a list-or-tuple of lists-or-tuples-or ndarrays with different lengths or shapes) is deprecated. If you meant to do this, you must specify 'dtype=object' when creating the ndarray\n",
            "  return array(a, dtype, copy=False, order=order)\n",
            "/usr/local/lib/python3.7/dist-packages/numpy/core/_asarray.py:83: VisibleDeprecationWarning: Creating an ndarray from ragged nested sequences (which is a list-or-tuple of lists-or-tuples-or ndarrays with different lengths or shapes) is deprecated. If you meant to do this, you must specify 'dtype=object' when creating the ndarray\n",
            "  return array(a, dtype, copy=False, order=order)\n",
            "/usr/local/lib/python3.7/dist-packages/numpy/core/_asarray.py:83: VisibleDeprecationWarning: Creating an ndarray from ragged nested sequences (which is a list-or-tuple of lists-or-tuples-or ndarrays with different lengths or shapes) is deprecated. If you meant to do this, you must specify 'dtype=object' when creating the ndarray\n",
            "  return array(a, dtype, copy=False, order=order)\n"
          ]
        },
        {
          "output_type": "display_data",
          "data": {
            "image/png": "[encoded data removed]",
            "text/plain": [
              "<Figure size 432x288 with 1 Axes>"
            ]
          },
          "metadata": {
            "needs_background": "light"
          }
        },
        {
          "output_type": "display_data",
          "data": {
            "image/png": "[encoded data removed]",
            "text/plain": [
              "<Figure size 432x288 with 1 Axes>"
            ]
          },
          "metadata": {
            "needs_background": "light"
          }
        },
        {
          "output_type": "display_data",
          "data": {
            "image/png": "[encoded data removed]",
            "text/plain": [
              "<Figure size 432x288 with 1 Axes>"
            ]
          },
          "metadata": {
            "needs_background": "light"
          }
        },
        {
          "output_type": "display_data",
          "data": {
            "image/png": "[encoded data removed]",
            "text/plain": [
              "<Figure size 432x288 with 1 Axes>"
            ]
          },
          "metadata": {
            "needs_background": "light"
          }
        },
        {
          "output_type": "display_data",
          "data": {
            "image/png": "[encoded data removed]",
            "text/plain": [
              "<Figure size 432x288 with 1 Axes>"
            ]
          },
          "metadata": {
            "needs_background": "light"
          }
        },
        {
          "output_type": "display_data",
          "data": {
            "image/png": "[encoded data removed]",
            "text/plain": [
              "<Figure size 432x288 with 1 Axes>"
            ]
          },
          "metadata": {
            "needs_background": "light"
          }
        },
        {
          "output_type": "display_data",
          "data": {
            "image/png": "[encoded data removed]",
            "text/plain": [
              "<Figure size 432x288 with 1 Axes>"
            ]
          },
          "metadata": {
            "needs_background": "light"
          }
        }
      ]
    },
    {
      "cell_type": "code",
      "metadata": {
        "colab": {
          "base_uri": "https://localhost:8080/"
        },
        "id": "_a5EdF3DwrWa",
        "outputId": "f65eab9e-e7b9-49e9-f14f-9e2175d62cd4"
      },
      "source": [
        "    my_dict = {'Não tabagistas': data_heart[data_heart['smoking'] == 0]['ejection_fraction'], \n",
        "               'Tabagistas': data_heart[data_heart['smoking'] == 1]['ejection_fraction']}\n",
        "    \n",
        "    fig, ax = plt.subplots()\n",
        "    ax.boxplot(my_dict.values())\n",
        "    ax.set_xticklabels(my_dict.keys())\n",
        "    plt.title('Relação tabagismo ')"
      ],
      "execution_count": null,
      "outputs": [
        {
          "output_type": "stream",
          "name": "stderr",
          "text": [
            "/usr/local/lib/python3.7/dist-packages/numpy/core/_asarray.py:83: VisibleDeprecationWarning: Creating an ndarray from ragged nested sequences (which is a list-or-tuple of lists-or-tuples-or ndarrays with different lengths or shapes) is deprecated. If you meant to do this, you must specify 'dtype=object' when creating the ndarray\n",
            "  return array(a, dtype, copy=False, order=order)\n"
          ]
        },
        {
          "output_type": "execute_result",
          "data": {
            "text/plain": [
              "Text(0.5, 1.0, 'Relação tabagismo ')"
            ]
          },
          "metadata": {},
          "execution_count": 447
        },
        {
          "output_type": "display_data",
          "data": {
            "image/png": "[encoded data removed]",
            "text/plain": [
              "<Figure size 432x288 with 1 Axes>"
            ]
          },
          "metadata": {
            "needs_background": "light"
          }
        }
      ]
    },
    {
      "cell_type": "code",
      "metadata": {
        "colab": {
          "base_uri": "https://localhost:8080/",
          "height": 353
        },
        "id": "gMwuf1rodOim",
        "outputId": "003fbda6-9589-4a1c-ad59-f3929aec967a"
      },
      "source": [
        "    my_dict = {'Não hipertensos': data_heart[data_heart['high_blood_pressure'] == 0]['serum_sodium'], \n",
        "               'Hipertensos': data_heart[data_heart['high_blood_pressure'] == 1]['serum_sodium']}\n",
        "    \n",
        "    fig, ax = plt.subplots()\n",
        "    ax.boxplot(my_dict.values())\n",
        "    ax.set_xticklabels(my_dict.keys())\n",
        "    plt.title('Relação Hipertensão X Sódio Sérico ')"
      ],
      "execution_count": null,
      "outputs": [
        {
          "output_type": "stream",
          "name": "stderr",
          "text": [
            "/usr/local/lib/python3.7/dist-packages/numpy/core/_asarray.py:83: VisibleDeprecationWarning: Creating an ndarray from ragged nested sequences (which is a list-or-tuple of lists-or-tuples-or ndarrays with different lengths or shapes) is deprecated. If you meant to do this, you must specify 'dtype=object' when creating the ndarray\n",
            "  return array(a, dtype, copy=False, order=order)\n"
          ]
        },
        {
          "output_type": "execute_result",
          "data": {
            "text/plain": [
              "Text(0.5, 1.0, 'Relação Hipertensão X Sódio Sérico ')"
            ]
          },
          "metadata": {},
          "execution_count": 325
        },
        {
          "output_type": "display_data",
          "data": {
            "image/png": "[encoded data removed]",
            "text/plain": [
              "<Figure size 432x288 with 1 Axes>"
            ]
          },
          "metadata": {
            "needs_background": "light"
          }
        }
      ]
    },
    {
      "cell_type": "markdown",
      "metadata": {
        "id": "XdCGTRAXB4vl"
      },
      "source": [
        "# **Testes - Todos Atributos**\n"
      ]
    },
    {
      "cell_type": "markdown",
      "metadata": {
        "id": "-AaX1aTyEJGF"
      },
      "source": [
        "## Validação Externa (Grupos: Ocorrência de Óbito e Não Ocorrência de Óbito) "
      ]
    },
    {
      "cell_type": "code",
      "metadata": {
        "id": "qVHPMQOkEQhU"
      },
      "source": [
        "data_heart= pd.read_csv (\"/content/heart_failure_clinical_records_dataset.csv\")\n",
        "teste_classes = data_heart['DEATH_EVENT']\n",
        "data_heart= data_heart.drop(columns=['DEATH_EVENT'])"
      ],
      "execution_count": null,
      "outputs": []
    },
    {
      "cell_type": "code",
      "metadata": {
        "id": "L8_1K6ppCKRU"
      },
      "source": [
        "data_heart = data_heart.iloc[:,0:12].values"
      ],
      "execution_count": null,
      "outputs": []
    },
    {
      "cell_type": "code",
      "metadata": {
        "id": "q3150Yu6CT12"
      },
      "source": [
        "normalizador = MinMaxScaler(feature_range = (0,1))\n",
        "data_heart = normalizador.fit_transform(data_heart)"
      ],
      "execution_count": null,
      "outputs": []
    },
    {
      "cell_type": "markdown",
      "metadata": {
        "id": "msAE10o-C6nE"
      },
      "source": [
        "### DBSCAN"
      ]
    },
    {
      "cell_type": "code",
      "metadata": {
        "id": "qlcTWKNAC9yK"
      },
      "source": [
        "params = {'eps' : np.arange(0.1,1.5,0.05),\n",
        "        'min_samples' : np.arange(2,30,1)}\n"
      ],
      "execution_count": null,
      "outputs": []
    },
    {
      "cell_type": "code",
      "metadata": {
        "id": "2kWyu5rlDA1E"
      },
      "source": [
        "max_ari = -100\n",
        "for i in params['eps']:\n",
        "  for j in params['min_samples']:\n",
        "    clustering = DBSCAN(eps=i, min_samples=j).fit(data_heart)\n",
        "    labels = clustering.labels_\n",
        "    if(len(np.unique(labels))>1):\n",
        "      ari = metrics.adjusted_rand_score(np.array(teste_classes),labels)\n",
        "      if(ari> max_ari):\n",
        "        best = (clustering,[i,j],len(np.unique(labels)),ari)\n",
        "        max_ari = ari"
      ],
      "execution_count": null,
      "outputs": []
    },
    {
      "cell_type": "code",
      "metadata": {
        "colab": {
          "base_uri": "https://localhost:8080/"
        },
        "id": "PMQbdUMlFsj9",
        "outputId": "d04c54cc-fade-4d62-bc15-0cb2c5c44b13"
      },
      "source": [
        "best"
      ],
      "execution_count": null,
      "outputs": [
        {
          "output_type": "execute_result",
          "data": {
            "text/plain": [
              "(DBSCAN(eps=1.0500000000000003, min_samples=24),\n",
              " [1.0500000000000003, 24],\n",
              " 2,\n",
              " 0.058094017314784245)"
            ]
          },
          "metadata": {},
          "execution_count": 794
        }
      ]
    },
    {
      "cell_type": "code",
      "metadata": {
        "colab": {
          "base_uri": "https://localhost:8080/"
        },
        "id": "0RkvjupRDdMF",
        "outputId": "7c5da883-7f0d-432d-e23b-da6a05ece0fe"
      },
      "source": [
        "best[0].fit(data_heart)\n",
        "labels = best[0].labels_\n",
        "print(\"ARI: \" + str(metrics.adjusted_rand_score(np.array(teste_classes),labels)))"
      ],
      "execution_count": null,
      "outputs": [
        {
          "output_type": "stream",
          "name": "stdout",
          "text": [
            "ARI: 0.058094017314784245\n"
          ]
        }
      ]
    },
    {
      "cell_type": "markdown",
      "metadata": {
        "id": "1pUClvGVFwq9"
      },
      "source": [
        "### K-means\n"
      ]
    },
    {
      "cell_type": "code",
      "metadata": {
        "colab": {
          "base_uri": "https://localhost:8080/",
          "height": 625
        },
        "id": "Tt75H49lF4WV",
        "outputId": "7682c371-3288-433c-c7ec-7475ec24e074"
      },
      "source": [
        "v = []\n",
        "for i in range(1, 20):\n",
        "    kmeans = KMeans(n_clusters = i, init = 'k-means++')\n",
        "    kmeans.fit(data_heart)\n",
        "    print(i, kmeans.inertia_)\n",
        "    v.append(kmeans.inertia_)\n",
        "plt.plot(range(1, 20), v)\n",
        "plt.title('Escolhendo o valor de k com o Método do Joelho')\n",
        "plt.xlabel('Numero de Clusters (k)')\n",
        "plt.ylabel('Erro quadrático')\n",
        "plt.show()"
      ],
      "execution_count": null,
      "outputs": [
        {
          "output_type": "stream",
          "name": "stdout",
          "text": [
            "1 411.29162529254427\n",
            "2 329.77040896747997\n",
            "3 286.3731234272049\n",
            "4 249.85601191101298\n",
            "5 227.76237137788223\n",
            "6 207.80405387855018\n",
            "7 189.70035148711116\n",
            "8 174.5990336027736\n",
            "9 162.93923887181077\n",
            "10 148.08794371686423\n",
            "11 140.35516854187102\n",
            "12 126.9664651115429\n",
            "13 119.52552568409823\n",
            "14 111.6017823704477\n",
            "15 104.77111768057915\n",
            "16 97.13977117839741\n",
            "17 90.68341549511132\n",
            "18 84.03753940143923\n",
            "19 79.72417155246055\n"
          ]
        },
        {
          "output_type": "display_data",
          "data": {
            "image/png": "[encoded data removed]",
            "text/plain": [
              "<Figure size 432x288 with 1 Axes>"
            ]
          },
          "metadata": {
            "needs_background": "light"
          }
        }
      ]
    },
    {
      "cell_type": "code",
      "metadata": {
        "id": "FDLPsfRnqmCW"
      },
      "source": [
        "media_ari = 0\n",
        "for i in range(0,5):\n",
        "  kmeans = KMeans(n_clusters =4, init = 'k-means++')\n",
        "  kmeans.fit(data_heart)\n",
        "  labels = kmeans.labels_\n",
        "  media_ari += metrics.adjusted_rand_score(np.array(teste_classes),labels)\n",
        "media_ari = media_ari/5"
      ],
      "execution_count": null,
      "outputs": []
    },
    {
      "cell_type": "code",
      "metadata": {
        "colab": {
          "base_uri": "https://localhost:8080/"
        },
        "id": "IXHJoeYgbro_",
        "outputId": "3f2b1b5e-26f6-4026-ba4f-a8975c15aa42"
      },
      "source": [
        "print(\"MEDIA ARI: \"+ str(media_ari))"
      ],
      "execution_count": null,
      "outputs": [
        {
          "output_type": "stream",
          "name": "stdout",
          "text": [
            "MEDIA ARI: 0.0021412285613614246\n"
          ]
        }
      ]
    },
    {
      "cell_type": "markdown",
      "metadata": {
        "id": "LiC6AVNTB5WC"
      },
      "source": [
        "### WARD"
      ]
    },
    {
      "cell_type": "code",
      "metadata": {
        "colab": {
          "base_uri": "https://localhost:8080/",
          "height": 312
        },
        "id": "Q8MwF9-cB4az",
        "outputId": "383dfe04-d7d0-4d0b-ff73-3a45066cb9e7"
      },
      "source": [
        "dendrograma = dendrogram(linkage(data_heart, method = 'ward'))\n",
        "plt.title('Dendrograma')\n",
        "plt.xlabel('Pessoas')\n",
        "plt.ylabel('Distância Euclidiana')"
      ],
      "execution_count": null,
      "outputs": [
        {
          "output_type": "execute_result",
          "data": {
            "text/plain": [
              "Text(0, 0.5, 'Distância Euclidiana')"
            ]
          },
          "metadata": {},
          "execution_count": 808
        },
        {
          "output_type": "display_data",
          "data": {
            "image/png": "[encoded data removed]",
            "text/plain": [
              "<Figure size 432x288 with 1 Axes>"
            ]
          },
          "metadata": {
            "needs_background": "light"
          }
        }
      ]
    },
    {
      "cell_type": "code",
      "metadata": {
        "id": "ivErIEsLCS_r"
      },
      "source": [
        "hc = AgglomerativeClustering(n_clusters =2, affinity = 'euclidean', linkage = 'ward')\n",
        "previsoes = hc.fit_predict(data_heart)"
      ],
      "execution_count": null,
      "outputs": []
    },
    {
      "cell_type": "code",
      "metadata": {
        "colab": {
          "base_uri": "https://localhost:8080/"
        },
        "id": "Ot1rS7YMCZ8r",
        "outputId": "30d0031c-8ab6-4fbf-9199-43287f302599"
      },
      "source": [
        "print('ARI: ' +str(adjusted_rand_score(np.array(teste_classes),previsoes)))"
      ],
      "execution_count": null,
      "outputs": [
        {
          "output_type": "stream",
          "name": "stdout",
          "text": [
            "ARI: -0.0068352880054680255\n"
          ]
        }
      ]
    },
    {
      "cell_type": "markdown",
      "metadata": {
        "id": "H7_swqgOIVGv"
      },
      "source": [
        "## Validação Interna - Tentando encontrar outros subgrupos"
      ]
    },
    {
      "cell_type": "code",
      "metadata": {
        "id": "z8S0w3kxIeZM"
      },
      "source": [
        "data_heart= pd.read_csv (\"/content/heart_failure_clinical_records_dataset.csv\")\n",
        "data_heart = data_heart.iloc[:,0:13].values"
      ],
      "execution_count": null,
      "outputs": []
    },
    {
      "cell_type": "code",
      "metadata": {
        "id": "RIeLNvEfIl8r"
      },
      "source": [
        "normalizador = MinMaxScaler(feature_range = (0,1))\n",
        "data_heart = normalizador.fit_transform(data_heart)"
      ],
      "execution_count": null,
      "outputs": []
    },
    {
      "cell_type": "markdown",
      "metadata": {
        "id": "PfBwXRZaIwlT"
      },
      "source": [
        "### DBSCAN"
      ]
    },
    {
      "cell_type": "code",
      "metadata": {
        "id": "wfRhOYhsIy-t"
      },
      "source": [
        "params = {'eps' : np.arange(0.1,1.5,0.05),\n",
        "        'min_samples' : np.arange(2,30,1)}\n"
      ],
      "execution_count": null,
      "outputs": []
    },
    {
      "cell_type": "code",
      "metadata": {
        "id": "rmB4l3DKI2J1"
      },
      "source": [
        "max_silhueta = -100\n",
        "for i in params['eps']:\n",
        "  for j in params['min_samples']:\n",
        "    clustering = DBSCAN(eps=i, min_samples=j).fit(data_heart)\n",
        "    labels = clustering.labels_\n",
        "    if(len(np.unique(labels))>1):\n",
        "      silhueta = metrics.silhouette_score(data_heart,labels,metric='euclidean')\n",
        "      if(silhueta > max_silhueta):\n",
        "        best = (clustering,[i,j],len(np.unique(labels)),silhueta)\n",
        "        max_silhueta = silhueta"
      ],
      "execution_count": null,
      "outputs": []
    },
    {
      "cell_type": "code",
      "metadata": {
        "colab": {
          "base_uri": "https://localhost:8080/"
        },
        "id": "Jjs_8pd_I6cW",
        "outputId": "a13eacde-32cc-4474-eede-65f9a1b1ffc3"
      },
      "source": [
        "best"
      ],
      "execution_count": null,
      "outputs": [
        {
          "output_type": "execute_result",
          "data": {
            "text/plain": [
              "(DBSCAN(eps=0.8500000000000002, min_samples=2),\n",
              " [0.8500000000000002, 2],\n",
              " 47,\n",
              " 0.47859095650602035)"
            ]
          },
          "metadata": {},
          "execution_count": 815
        }
      ]
    },
    {
      "cell_type": "code",
      "metadata": {
        "colab": {
          "base_uri": "https://localhost:8080/"
        },
        "id": "0IvqeJB-I8W-",
        "outputId": "01a91a98-192f-4b48-d5ba-4c4bed5687bf"
      },
      "source": [
        "best[0].fit(data_heart)\n",
        "labels = best[0].labels_\n",
        "print(\"Silhueta: \" + str(metrics.silhouette_score(data_heart,labels)))"
      ],
      "execution_count": null,
      "outputs": [
        {
          "output_type": "stream",
          "name": "stdout",
          "text": [
            "Silhueta: 0.47859095650602035\n"
          ]
        }
      ]
    },
    {
      "cell_type": "markdown",
      "metadata": {
        "id": "WXP8GcQYdHgA"
      },
      "source": [
        "### K-means\n"
      ]
    },
    {
      "cell_type": "code",
      "metadata": {
        "colab": {
          "base_uri": "https://localhost:8080/",
          "height": 625
        },
        "id": "aWqYS7TKdHgH",
        "outputId": "dbc5e180-4e32-42d0-fea4-73e6d0cfc36c"
      },
      "source": [
        "v = []\n",
        "for i in range(1, 20):\n",
        "    kmeans = KMeans(n_clusters = i, init = 'random')\n",
        "    kmeans.fit(data_heart)\n",
        "    print(i, kmeans.inertia_)\n",
        "    v.append(kmeans.inertia_)\n",
        "plt.plot(range(1, 20), v)\n",
        "plt.title('Escolhendo o valor de k com o Método do Joelho')\n",
        "plt.xlabel('Numero de Clusters (k)')\n",
        "plt.ylabel('Erro quadrático')\n",
        "plt.show()"
      ],
      "execution_count": null,
      "outputs": [
        {
          "output_type": "stream",
          "name": "stdout",
          "text": [
            "1 476.4688828176279\n",
            "2 391.7933886579311\n",
            "3 342.4547121627114\n",
            "4 311.00861906278726\n",
            "5 286.00471805264374\n",
            "6 267.5256731054354\n",
            "7 252.14413481037306\n",
            "8 233.7455958461129\n",
            "9 221.376873022023\n",
            "10 214.1115876499013\n",
            "11 201.54327721068222\n",
            "12 191.8572013170243\n",
            "13 184.52610039536594\n",
            "14 173.8058056510408\n",
            "15 163.31584163295082\n",
            "16 159.344948591299\n",
            "17 152.32099394460255\n",
            "18 145.4381582155811\n",
            "19 140.01478318815705\n"
          ]
        },
        {
          "output_type": "display_data",
          "data": {
            "image/png": "[encoded data removed]",
            "text/plain": [
              "<Figure size 432x288 with 1 Axes>"
            ]
          },
          "metadata": {
            "needs_background": "light"
          }
        }
      ]
    },
    {
      "cell_type": "code",
      "metadata": {
        "id": "khV80ESdrXl9"
      },
      "source": [
        "media_silhueta = 0\n",
        "for i in range(0,5):\n",
        "  kmeans = KMeans(n_clusters =3, init = 'k-means++')\n",
        "  kmeans.fit(data_heart)\n",
        "  labels = kmeans.labels_\n",
        "  media_silhueta += metrics.silhouette_score(data_heart,labels)\n",
        "media_silhueta = media_silhueta/5"
      ],
      "execution_count": null,
      "outputs": []
    },
    {
      "cell_type": "code",
      "metadata": {
        "colab": {
          "base_uri": "https://localhost:8080/"
        },
        "id": "dWBJuqH6dHgI",
        "outputId": "e40b4d81-dc5d-49e5-ed2d-a717aaa870c4"
      },
      "source": [
        "print(\"Silhueta: \" +str(media_silhueta))"
      ],
      "execution_count": null,
      "outputs": [
        {
          "output_type": "stream",
          "name": "stdout",
          "text": [
            "Silhueta: 0.1798010710658692\n"
          ]
        }
      ]
    },
    {
      "cell_type": "markdown",
      "metadata": {
        "id": "26fHSxqpDWr9"
      },
      "source": [
        "### WARD"
      ]
    },
    {
      "cell_type": "code",
      "metadata": {
        "colab": {
          "base_uri": "https://localhost:8080/",
          "height": 312
        },
        "id": "v7EMAn9GDWr-",
        "outputId": "8fd8b70c-04f5-4ff4-c949-841c76274c11"
      },
      "source": [
        "dendrograma = dendrogram(linkage(data_heart, method = 'ward'))\n",
        "plt.title('Dendrograma')\n",
        "plt.xlabel('Pessoas')\n",
        "plt.ylabel('Distância Euclidiana')"
      ],
      "execution_count": null,
      "outputs": [
        {
          "output_type": "execute_result",
          "data": {
            "text/plain": [
              "Text(0, 0.5, 'Distância Euclidiana')"
            ]
          },
          "metadata": {},
          "execution_count": 820
        },
        {
          "output_type": "display_data",
          "data": {
            "image/png": "[encoded data removed]",
            "text/plain": [
              "<Figure size 432x288 with 1 Axes>"
            ]
          },
          "metadata": {
            "needs_background": "light"
          }
        }
      ]
    },
    {
      "cell_type": "code",
      "metadata": {
        "id": "dCHy_k2EDWr-"
      },
      "source": [
        "hc = AgglomerativeClustering(n_clusters = 3, affinity = 'euclidean', linkage = 'ward')\n",
        "previsoes = hc.fit_predict(data_heart)"
      ],
      "execution_count": null,
      "outputs": []
    },
    {
      "cell_type": "code",
      "metadata": {
        "colab": {
          "base_uri": "https://localhost:8080/"
        },
        "id": "WwtNQAFqDWr-",
        "outputId": "724b13d5-ec5c-4b70-e31b-2a27b4bec124"
      },
      "source": [
        "print('Silhueta: ' + str(metrics.silhouette_score(data_heart,previsoes)))"
      ],
      "execution_count": null,
      "outputs": [
        {
          "output_type": "stream",
          "name": "stdout",
          "text": [
            "Silhueta: 0.1745692761732073\n"
          ]
        }
      ]
    },
    {
      "cell_type": "markdown",
      "metadata": {
        "id": "8mTmX2WWHJ4G"
      },
      "source": [
        "# **Testes - Atributos do Artigo**"
      ]
    },
    {
      "cell_type": "markdown",
      "metadata": {
        "id": "Lqs9c5VhH3Nu"
      },
      "source": [
        "## Validação Externa (Ocorrência ou não ocorrência de óbito)"
      ]
    },
    {
      "cell_type": "code",
      "metadata": {
        "id": "k-fT4vBHHWWY"
      },
      "source": [
        "data_heart= pd.read_csv (\"/content/heart_failure_clinical_records_dataset.csv\")\n",
        "data_heart= data_heart.drop(columns=['time','serum_sodium','age', 'anaemia', 'creatinine_phosphokinase','high_blood_pressure' ,'platelets','diabetes','sex','smoking','DEATH_EVENT'])\n",
        "data_heart = data_heart.iloc[:,0:3].values"
      ],
      "execution_count": null,
      "outputs": []
    },
    {
      "cell_type": "code",
      "metadata": {
        "id": "RkjC-XMOdrmr"
      },
      "source": [
        "normalizador = MinMaxScaler(feature_range = (0,1))\n",
        "data_heart = normalizador.fit_transform(data_heart)"
      ],
      "execution_count": null,
      "outputs": []
    },
    {
      "cell_type": "markdown",
      "metadata": {
        "id": "6jECCAngdxAM"
      },
      "source": [
        "### DBSCAN"
      ]
    },
    {
      "cell_type": "code",
      "metadata": {
        "id": "E7AskQSrdxAM"
      },
      "source": [
        "params = {'eps' : np.arange(0.1,1.5,0.05),\n",
        "        'min_samples' : np.arange(2,30,1)}\n"
      ],
      "execution_count": null,
      "outputs": []
    },
    {
      "cell_type": "code",
      "metadata": {
        "id": "ThA5fc8QdxAM"
      },
      "source": [
        "max_silhueta = -100\n",
        "for i in params['eps']:\n",
        "  for j in params['min_samples']:\n",
        "    clustering = DBSCAN(eps=i, min_samples=j).fit(data_heart)\n",
        "    labels = clustering.labels_\n",
        "    if(len(np.unique(labels))>1):\n",
        "      silhueta = metrics.adjusted_rand_score(np.array(teste_classes),labels)\n",
        "      if(silhueta > max_silhueta):\n",
        "        best = (clustering,[i,j],len(np.unique(labels)),silhueta)\n",
        "        max_silhueta = silhueta"
      ],
      "execution_count": null,
      "outputs": []
    },
    {
      "cell_type": "code",
      "metadata": {
        "colab": {
          "base_uri": "https://localhost:8080/"
        },
        "id": "bHiIeR6MdxAN",
        "outputId": "12c70d01-fa5f-4954-e29a-b836bf144e31"
      },
      "source": [
        "best"
      ],
      "execution_count": null,
      "outputs": [
        {
          "output_type": "execute_result",
          "data": {
            "text/plain": [
              "(DBSCAN(eps=0.1, min_samples=29), [0.1, 29], 2, 0.06383011924802276)"
            ]
          },
          "metadata": {},
          "execution_count": 827
        }
      ]
    },
    {
      "cell_type": "code",
      "metadata": {
        "colab": {
          "base_uri": "https://localhost:8080/"
        },
        "id": "WTz1AlUddxAN",
        "outputId": "9b278e82-f961-410f-8f31-3ac12aa690da"
      },
      "source": [
        "best[0].fit(data_heart)\n",
        "labels = best[0].labels_\n",
        "print(\"ARI: \" + str(metrics.adjusted_rand_score(np.array(teste_classes),labels)))"
      ],
      "execution_count": null,
      "outputs": [
        {
          "output_type": "stream",
          "name": "stdout",
          "text": [
            "ARI: 0.06383011924802276\n"
          ]
        }
      ]
    },
    {
      "cell_type": "markdown",
      "metadata": {
        "id": "oIBe7oLMd4nK"
      },
      "source": [
        "### K-means\n"
      ]
    },
    {
      "cell_type": "code",
      "metadata": {
        "colab": {
          "base_uri": "https://localhost:8080/",
          "height": 625
        },
        "id": "dfhxnAB_d4nK",
        "outputId": "29f62be3-1519-4623-80c4-93d8f7150e3e"
      },
      "source": [
        "v = []\n",
        "for i in range(1, 20):\n",
        "    kmeans = KMeans(n_clusters = i, init = 'k-means++')\n",
        "    kmeans.fit(data_heart)\n",
        "    print(i, kmeans.inertia_)\n",
        "    v.append(kmeans.inertia_)\n",
        "plt.plot(range(1, 20), v)\n",
        "plt.title('Escolhendo o valor de k com o Método do Joelho')\n",
        "plt.xlabel('Numero de Clusters (k)')\n",
        "plt.ylabel('Erro quadrático')\n",
        "plt.show()"
      ],
      "execution_count": null,
      "outputs": [
        {
          "output_type": "stream",
          "name": "stdout",
          "text": [
            "1 13.608231110616885\n",
            "2 7.3158408357490075\n",
            "3 5.075938107650702\n",
            "4 3.037822799196096\n",
            "5 2.333646168180584\n",
            "6 1.8721531985985789\n",
            "7 1.5702706274038285\n",
            "8 1.3414189118144744\n",
            "9 1.2184568543719563\n",
            "10 1.0603992929547985\n",
            "11 0.968711350596192\n",
            "12 0.8894184523963862\n",
            "13 0.8113618517842769\n",
            "14 0.7313135631846956\n",
            "15 0.6172126918347163\n",
            "16 0.5796562882750864\n",
            "17 0.4848265883933197\n",
            "18 0.45810747822223097\n",
            "19 0.3883852711779381\n"
          ]
        },
        {
          "output_type": "display_data",
          "data": {
            "image/png": "[encoded data removed]",
            "text/plain": [
              "<Figure size 432x288 with 1 Axes>"
            ]
          },
          "metadata": {
            "needs_background": "light"
          }
        }
      ]
    },
    {
      "cell_type": "code",
      "metadata": {
        "id": "cRru1r4kd4nK"
      },
      "source": [
        "media_ari = 0\n",
        "for i in range(0,5):\n",
        "  kmeans = KMeans(n_clusters = 4, init = 'k-means++')\n",
        "  kmeans.fit(data_heart)\n",
        "  labels = kmeans.labels_\n",
        "  media_ari += metrics.adjusted_rand_score(np.array(teste_classes),labels)\n",
        "media_ari = media_ari/5"
      ],
      "execution_count": null,
      "outputs": []
    },
    {
      "cell_type": "code",
      "metadata": {
        "colab": {
          "base_uri": "https://localhost:8080/"
        },
        "id": "1C-3htN8d4nL",
        "outputId": "d9ee8483-a276-4118-89ca-b31da9f65df5"
      },
      "source": [
        "print(\"ARI: \"+ str(metrics.adjusted_rand_score(np.array(teste_classes),labels)))"
      ],
      "execution_count": null,
      "outputs": [
        {
          "output_type": "stream",
          "name": "stdout",
          "text": [
            "ARI: 0.08989691495344082\n"
          ]
        }
      ]
    },
    {
      "cell_type": "markdown",
      "metadata": {
        "id": "BymnDFeYEFH9"
      },
      "source": [
        "### WARD"
      ]
    },
    {
      "cell_type": "code",
      "metadata": {
        "colab": {
          "base_uri": "https://localhost:8080/",
          "height": 312
        },
        "id": "QdQxNz-AEFH9",
        "outputId": "10e63e39-71bf-4006-f0b5-10ec1910eec7"
      },
      "source": [
        "dendrograma = dendrogram(linkage(data_heart, method = 'ward'))\n",
        "plt.title('Dendrograma')\n",
        "plt.xlabel('Pessoas')\n",
        "plt.ylabel('Distância Euclidiana')"
      ],
      "execution_count": null,
      "outputs": [
        {
          "output_type": "execute_result",
          "data": {
            "text/plain": [
              "Text(0, 0.5, 'Distância Euclidiana')"
            ]
          },
          "metadata": {},
          "execution_count": 848
        },
        {
          "output_type": "display_data",
          "data": {
            "image/png": "[encoded data removed]",
            "text/plain": [
              "<Figure size 432x288 with 1 Axes>"
            ]
          },
          "metadata": {
            "needs_background": "light"
          }
        }
      ]
    },
    {
      "cell_type": "code",
      "metadata": {
        "id": "ylfa3kdYEFH-"
      },
      "source": [
        "hc = AgglomerativeClustering(n_clusters = 2, affinity = 'euclidean', linkage = 'ward')\n",
        "previsoes = hc.fit_predict(data_heart)"
      ],
      "execution_count": null,
      "outputs": []
    },
    {
      "cell_type": "code",
      "metadata": {
        "colab": {
          "base_uri": "https://localhost:8080/"
        },
        "id": "0k9AYvBCEFH-",
        "outputId": "8eeab6b0-a17e-404c-9850-5e833915c0eb"
      },
      "source": [
        "print('ARI: ' +str(adjusted_rand_score(np.array(teste_classes),previsoes)))"
      ],
      "execution_count": null,
      "outputs": [
        {
          "output_type": "stream",
          "name": "stdout",
          "text": [
            "ARI: -0.024796179227704437\n"
          ]
        }
      ]
    },
    {
      "cell_type": "markdown",
      "metadata": {
        "id": "L0fHgdvYed4z"
      },
      "source": [
        "## Validação Interna - Tentando encontrar outros subgrupos"
      ]
    },
    {
      "cell_type": "code",
      "metadata": {
        "id": "vyghF-tbt-wP"
      },
      "source": [
        "data_heart= pd.read_csv (\"/content/heart_failure_clinical_records_dataset.csv\")\n",
        "data_heart= data_heart.drop(columns=['time','serum_sodium','age', 'anaemia', 'creatinine_phosphokinase','high_blood_pressure' ,'platelets','diabetes','sex','smoking','DEATH_EVENT'])\n",
        "data_heart = data_heart.iloc[:,0:3].values"
      ],
      "execution_count": null,
      "outputs": []
    },
    {
      "cell_type": "code",
      "metadata": {
        "id": "eI_P-dlSey-d"
      },
      "source": [
        "normalizador = MinMaxScaler(feature_range = (0,1))\n",
        "data_heart = normalizador.fit_transform(data_heart)"
      ],
      "execution_count": null,
      "outputs": []
    },
    {
      "cell_type": "markdown",
      "metadata": {
        "id": "2jYqI9XZfC6K"
      },
      "source": [
        "### DBSCAN"
      ]
    },
    {
      "cell_type": "code",
      "metadata": {
        "id": "7bWN904gfC6L"
      },
      "source": [
        "params = {'eps' : np.arange(0.1,1.5,0.05),\n",
        "        'min_samples' : np.arange(2,30,1)}\n"
      ],
      "execution_count": null,
      "outputs": []
    },
    {
      "cell_type": "code",
      "metadata": {
        "id": "pMtypne3fC6L"
      },
      "source": [
        "max_silhueta = -100\n",
        "for i in params['eps']:\n",
        "  for j in params['min_samples']:\n",
        "    clustering = DBSCAN(eps=i, min_samples=j).fit(data_heart)\n",
        "    labels = clustering.labels_\n",
        "    if(len(np.unique(labels))>1):\n",
        "      silhueta = metrics.silhouette_score(data_heart,labels,metric='euclidean')\n",
        "      if(silhueta > max_silhueta):\n",
        "        best = (clustering,[i,j],len(np.unique(labels)),silhueta)\n",
        "        max_silhueta = silhueta"
      ],
      "execution_count": null,
      "outputs": []
    },
    {
      "cell_type": "code",
      "metadata": {
        "colab": {
          "base_uri": "https://localhost:8080/"
        },
        "id": "Sn1n8sYWfC6L",
        "outputId": "d1776982-7729-448a-9e96-7428f3490111"
      },
      "source": [
        "best"
      ],
      "execution_count": null,
      "outputs": [
        {
          "output_type": "execute_result",
          "data": {
            "text/plain": [
              "(DBSCAN(eps=0.45000000000000007, min_samples=6),\n",
              " [0.45000000000000007, 6],\n",
              " 2,\n",
              " 0.7497331088388867)"
            ]
          },
          "metadata": {},
          "execution_count": 839
        }
      ]
    },
    {
      "cell_type": "code",
      "metadata": {
        "colab": {
          "base_uri": "https://localhost:8080/"
        },
        "id": "Oire7xw8fC6L",
        "outputId": "d348426d-c6c6-4d19-8e6e-5e5a5039bdcf"
      },
      "source": [
        "best[0].fit(data_heart)\n",
        "labels = best[0].labels_\n",
        "print(\"Silhueta: \" + str(metrics.silhouette_score(data_heart,labels)))"
      ],
      "execution_count": null,
      "outputs": [
        {
          "output_type": "stream",
          "name": "stdout",
          "text": [
            "Silhueta: 0.7497331088388867\n"
          ]
        }
      ]
    },
    {
      "cell_type": "code",
      "metadata": {
        "colab": {
          "base_uri": "https://localhost:8080/"
        },
        "id": "mDfoTXVH0LHS",
        "outputId": "4bda1744-46fe-405a-929d-19a87d27e818"
      },
      "source": [
        "print(np.unique(labels))"
      ],
      "execution_count": null,
      "outputs": [
        {
          "output_type": "stream",
          "name": "stdout",
          "text": [
            "[-1  0]\n"
          ]
        }
      ]
    },
    {
      "cell_type": "markdown",
      "metadata": {
        "id": "jv9ylhFdfNpU"
      },
      "source": [
        "### K-means\n"
      ]
    },
    {
      "cell_type": "code",
      "metadata": {
        "colab": {
          "base_uri": "https://localhost:8080/",
          "height": 625
        },
        "id": "RMH8NZG3fNpU",
        "outputId": "af75a212-f783-46ca-8c7b-570aff9921c7"
      },
      "source": [
        "v = []\n",
        "for i in range(1, 20):\n",
        "    kmeans = KMeans(n_clusters = i, init = 'k-means++')\n",
        "    kmeans.fit(data_heart)\n",
        "    print(i, kmeans.inertia_)\n",
        "    v.append(kmeans.inertia_)\n",
        "plt.plot(range(1, 20), v)\n",
        "plt.title('Escolhendo o valor de k com o Método do Joelho')\n",
        "plt.xlabel('Numero de Clusters (k)')\n",
        "plt.ylabel('Erro quadrático')\n",
        "plt.show()"
      ],
      "execution_count": null,
      "outputs": [
        {
          "output_type": "stream",
          "name": "stdout",
          "text": [
            "1 13.608231110616885\n",
            "2 7.3158408357490075\n",
            "3 5.075938107650702\n",
            "4 3.037822799196096\n",
            "5 2.354912890272418\n",
            "6 1.8558339217296695\n",
            "7 1.5710056320939096\n",
            "8 1.3646271112595274\n",
            "9 1.2265968467728587\n",
            "10 1.1044638580873178\n",
            "11 0.9753344125018921\n",
            "12 0.8729194014705606\n",
            "13 0.7876027490993791\n",
            "14 0.6975888080990795\n",
            "15 0.6279879069124786\n",
            "16 0.5304667384457726\n",
            "17 0.49505775531232543\n",
            "18 0.44631174161915077\n",
            "19 0.3876307205466619\n"
          ]
        },
        {
          "output_type": "display_data",
          "data": {
            "image/png": "[encoded data removed]",
            "text/plain": [
              "<Figure size 432x288 with 1 Axes>"
            ]
          },
          "metadata": {
            "needs_background": "light"
          }
        }
      ]
    },
    {
      "cell_type": "code",
      "metadata": {
        "id": "NIDLDk8wsakf"
      },
      "source": [
        "media_silhueta = 0\n",
        "for i in range(0,5):\n",
        "  kmeans = KMeans(n_clusters = 4, init = 'k-means++')\n",
        "  kmeans.fit(data_heart)\n",
        "  labels = kmeans.labels_\n",
        "  media_silhueta += metrics.adjusted_rand_score(np.array(teste_classes),labels)\n",
        "media_silhueta = media_silhueta/5"
      ],
      "execution_count": null,
      "outputs": []
    },
    {
      "cell_type": "code",
      "metadata": {
        "colab": {
          "base_uri": "https://localhost:8080/"
        },
        "id": "d0d9bWj8fNpV",
        "outputId": "8797b1da-7afe-4c7a-acaa-16b1ce260a41"
      },
      "source": [
        "print(\"Silhueta: \" + str(media_silhueta))"
      ],
      "execution_count": null,
      "outputs": [
        {
          "output_type": "stream",
          "name": "stdout",
          "text": [
            "Silhueta: 0.08989691495344082\n"
          ]
        }
      ]
    },
    {
      "cell_type": "markdown",
      "metadata": {
        "id": "X7Er6J7fPCmf"
      },
      "source": [
        "### WARD"
      ]
    },
    {
      "cell_type": "code",
      "metadata": {
        "colab": {
          "base_uri": "https://localhost:8080/",
          "height": 312
        },
        "id": "o8-W3uEnPCmg",
        "outputId": "cf5fd4ff-ab6c-4408-c3cc-a6d46bdf648f"
      },
      "source": [
        "dendrograma = dendrogram(linkage(data_heart, method = 'ward'))\n",
        "plt.title('Dendrograma')\n",
        "plt.xlabel('Pessoas')\n",
        "plt.ylabel('Distância Euclidiana')"
      ],
      "execution_count": null,
      "outputs": [
        {
          "output_type": "execute_result",
          "data": {
            "text/plain": [
              "Text(0, 0.5, 'Distância Euclidiana')"
            ]
          },
          "metadata": {},
          "execution_count": 845
        },
        {
          "output_type": "display_data",
          "data": {
            "image/png": "[encoded data removed]",
            "text/plain": [
              "<Figure size 432x288 with 1 Axes>"
            ]
          },
          "metadata": {
            "needs_background": "light"
          }
        }
      ]
    },
    {
      "cell_type": "code",
      "metadata": {
        "id": "tgZilELoPCmh"
      },
      "source": [
        "hc = AgglomerativeClustering(n_clusters = 2, affinity = 'euclidean', linkage = 'ward')\n",
        "previsoes = hc.fit_predict(data_heart)"
      ],
      "execution_count": null,
      "outputs": []
    },
    {
      "cell_type": "code",
      "metadata": {
        "colab": {
          "base_uri": "https://localhost:8080/"
        },
        "id": "9t79N5DYPCmh",
        "outputId": "e81cf320-a29f-41e5-ae25-baefac9938eb"
      },
      "source": [
        "print(\"Silhueta: \" + str(metrics.silhouette_score(data_heart,previsoes)))"
      ],
      "execution_count": null,
      "outputs": [
        {
          "output_type": "stream",
          "name": "stdout",
          "text": [
            "Silhueta: 0.5249780998254641\n"
          ]
        }
      ]
    }
  ]
}